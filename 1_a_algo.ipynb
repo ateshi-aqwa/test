{
  "nbformat": 4,
  "nbformat_minor": 0,
  "metadata": {
    "colab": {
      "provenance": [],
      "authorship_tag": "ABX9TyMm5tpiruHzEJ6YH8VHnE58",
      "include_colab_link": true
    },
    "kernelspec": {
      "name": "python3",
      "display_name": "Python 3"
    },
    "language_info": {
      "name": "python"
    }
  },
  "cells": [
    {
      "cell_type": "markdown",
      "metadata": {
        "id": "view-in-github",
        "colab_type": "text"
      },
      "source": [
        "<a href=\"https://colab.research.google.com/github/ateshi-aqwa/test/blob/main/1_a_algo.ipynb\" target=\"_parent\"><img src=\"https://colab.research.google.com/assets/colab-badge.svg\" alt=\"Open In Colab\"/></a>"
      ]
    },
    {
      "cell_type": "code",
      "execution_count": null,
      "metadata": {
        "colab": {
          "base_uri": "https://localhost:8080/"
        },
        "id": "KLTVH2scUVGu",
        "outputId": "c3534478-9ccb-4b92-a3f9-8281f15cd07f"
      },
      "outputs": [
        {
          "output_type": "stream",
          "name": "stdout",
          "text": [
            "Path found:['A', 'B', 'G']\n"
          ]
        },
        {
          "output_type": "execute_result",
          "data": {
            "text/plain": [
              "['A', 'B', 'G']"
            ]
          },
          "metadata": {},
          "execution_count": 17
        }
      ],
      "source": [
        "#Program 1: A STAR\n",
        "def aStarAlgo(start_node,stop_node):\n",
        "    open_set = set(start_node)\n",
        "    closed_set= set()\n",
        "    g={}\n",
        "    parents={}\n",
        "    g[start_node]=0\n",
        "    parents[start_node]=start_node\n",
        "    while len(open_set)>0:\n",
        "      n=None\n",
        "      for v in open_set:\n",
        "        if n==None or g[v]+heuristic(v)<g[n]+heuristic(n):\n",
        "          n=v\n",
        "      if n== stop_node or Graph_nodes[n]==None:\n",
        "        pass\n",
        "      else:\n",
        "        for(m,weight) in get_neighbors(n):\n",
        "          if m not in open_set and m not in closed_set:\n",
        "            open_set.add(m)\n",
        "            parents[m]=n\n",
        "            g[m]=g[n]+weight\n",
        "          else:\n",
        "            if g[m]>g[n]+weight:\n",
        "              g[m]=g[n]+weight\n",
        "              parents[m]=n\n",
        "\n",
        "              if m in closed_set:\n",
        "                closed_set.remove(m)\n",
        "                open_set.add(m)\n",
        "      if n==None:\n",
        "        print('Path does not exist')\n",
        "        return None\n",
        "      if n==stop_node:\n",
        "        path=[]\n",
        "\n",
        "        while parents[n] != n:\n",
        "          path.append(n)\n",
        "          n=parents[n]\n",
        "        path.append(start_node)\n",
        "        path.reverse()\n",
        "        print(\"Path found:{}\".format(path))\n",
        "        return path\n",
        "\n",
        "      open_set.remove(n)\n",
        "      closed_set.add(n)\n",
        "    print(\"Path doesnt exits\")\n",
        "    return None\n",
        "\n",
        "def get_neighbors(v):\n",
        "  if v in Graph_nodes:\n",
        "    return Graph_nodes[v]\n",
        "  else:\n",
        "    return None\n",
        "\n",
        "def heuristic(n):\n",
        "  H_dist={\n",
        "      'A':11,\n",
        "      'B':6,\n",
        "      'C':99,\n",
        "      'D':1,\n",
        "      'E':7,\n",
        "      'G':0,\n",
        "  }\n",
        "  return H_dist[n]\n",
        "\n",
        "Graph_nodes={\n",
        "    'A':[('B',3),('E',4)],\n",
        "    'B':[('C',2),('G',8)],\n",
        "    'C':[('E',9)],\n",
        "    'E':[('D',7)],\n",
        "    'D':[('G',1)],\n",
        "}\n",
        "aStarAlgo('A','G')\n"
      ]
    }
  ]
}